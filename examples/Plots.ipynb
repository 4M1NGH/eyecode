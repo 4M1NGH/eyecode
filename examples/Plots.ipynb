{
 "metadata": {
  "name": "",
  "signature": "sha256:9e89faea84ed5860ec24de4dcfb047d029ea01002e3a595f0fa8de0a1de65c06"
 },
 "nbformat": 3,
 "nbformat_minor": 0,
 "worksheets": [
  {
   "cells": [
    {
     "cell_type": "markdown",
     "metadata": {},
     "source": [
      "# Plots"
     ]
    },
    {
     "cell_type": "code",
     "collapsed": false,
     "input": [
      "%run prelude.ipy"
     ],
     "language": "python",
     "metadata": {},
     "outputs": [],
     "prompt_number": 1
    },
    {
     "cell_type": "code",
     "collapsed": false,
     "input": [
      "from eyecode import aoi, util, plot\n",
      "from PIL import Image, ImageDraw, ImageFont"
     ],
     "language": "python",
     "metadata": {},
     "outputs": [],
     "prompt_number": 23
    },
    {
     "cell_type": "markdown",
     "metadata": {},
     "source": [
      "---"
     ]
    },
    {
     "cell_type": "markdown",
     "metadata": {},
     "source": [
      "## Saccade-Angle Plot"
     ]
    },
    {
     "cell_type": "markdown",
     "metadata": {},
     "source": [
      "Create a 4x3 grid with 100x100 cells. Cells are labeled A, B, C, etc. from left to right, top to bottom."
     ]
    },
    {
     "cell_type": "code",
     "collapsed": false,
     "input": [
      "def alpha_name(r, c):\n",
      "    return chr((r * 4) + c + 65)\n",
      "\n",
      "grid = aoi.make_grid(0, 0, 400, 300, num_horiz=4, num_vert=3, name_fun=alpha_name)\n",
      "grid"
     ],
     "language": "python",
     "metadata": {},
     "outputs": [
      {
       "html": [
        "<div style=\"max-height:1000px;max-width:1500px;overflow:auto;\">\n",
        "<table border=\"1\" class=\"dataframe\">\n",
        "  <thead>\n",
        "    <tr style=\"text-align: right;\">\n",
        "      <th></th>\n",
        "      <th>x</th>\n",
        "      <th>y</th>\n",
        "      <th>width</th>\n",
        "      <th>height</th>\n",
        "      <th>kind</th>\n",
        "      <th>name</th>\n",
        "      <th>local_id</th>\n",
        "    </tr>\n",
        "  </thead>\n",
        "  <tbody>\n",
        "    <tr>\n",
        "      <th>0 </th>\n",
        "      <td>   0</td>\n",
        "      <td>   0</td>\n",
        "      <td> 100</td>\n",
        "      <td> 100</td>\n",
        "      <td> grid</td>\n",
        "      <td> A</td>\n",
        "      <td> A</td>\n",
        "    </tr>\n",
        "    <tr>\n",
        "      <th>1 </th>\n",
        "      <td> 100</td>\n",
        "      <td>   0</td>\n",
        "      <td> 100</td>\n",
        "      <td> 100</td>\n",
        "      <td> grid</td>\n",
        "      <td> B</td>\n",
        "      <td> B</td>\n",
        "    </tr>\n",
        "    <tr>\n",
        "      <th>2 </th>\n",
        "      <td> 200</td>\n",
        "      <td>   0</td>\n",
        "      <td> 100</td>\n",
        "      <td> 100</td>\n",
        "      <td> grid</td>\n",
        "      <td> C</td>\n",
        "      <td> C</td>\n",
        "    </tr>\n",
        "    <tr>\n",
        "      <th>3 </th>\n",
        "      <td> 300</td>\n",
        "      <td>   0</td>\n",
        "      <td> 100</td>\n",
        "      <td> 100</td>\n",
        "      <td> grid</td>\n",
        "      <td> D</td>\n",
        "      <td> D</td>\n",
        "    </tr>\n",
        "    <tr>\n",
        "      <th>4 </th>\n",
        "      <td>   0</td>\n",
        "      <td> 100</td>\n",
        "      <td> 100</td>\n",
        "      <td> 100</td>\n",
        "      <td> grid</td>\n",
        "      <td> E</td>\n",
        "      <td> E</td>\n",
        "    </tr>\n",
        "    <tr>\n",
        "      <th>5 </th>\n",
        "      <td> 100</td>\n",
        "      <td> 100</td>\n",
        "      <td> 100</td>\n",
        "      <td> 100</td>\n",
        "      <td> grid</td>\n",
        "      <td> F</td>\n",
        "      <td> F</td>\n",
        "    </tr>\n",
        "    <tr>\n",
        "      <th>6 </th>\n",
        "      <td> 200</td>\n",
        "      <td> 100</td>\n",
        "      <td> 100</td>\n",
        "      <td> 100</td>\n",
        "      <td> grid</td>\n",
        "      <td> G</td>\n",
        "      <td> G</td>\n",
        "    </tr>\n",
        "    <tr>\n",
        "      <th>7 </th>\n",
        "      <td> 300</td>\n",
        "      <td> 100</td>\n",
        "      <td> 100</td>\n",
        "      <td> 100</td>\n",
        "      <td> grid</td>\n",
        "      <td> H</td>\n",
        "      <td> H</td>\n",
        "    </tr>\n",
        "    <tr>\n",
        "      <th>8 </th>\n",
        "      <td>   0</td>\n",
        "      <td> 200</td>\n",
        "      <td> 100</td>\n",
        "      <td> 100</td>\n",
        "      <td> grid</td>\n",
        "      <td> I</td>\n",
        "      <td> I</td>\n",
        "    </tr>\n",
        "    <tr>\n",
        "      <th>9 </th>\n",
        "      <td> 100</td>\n",
        "      <td> 200</td>\n",
        "      <td> 100</td>\n",
        "      <td> 100</td>\n",
        "      <td> grid</td>\n",
        "      <td> J</td>\n",
        "      <td> J</td>\n",
        "    </tr>\n",
        "    <tr>\n",
        "      <th>10</th>\n",
        "      <td> 200</td>\n",
        "      <td> 200</td>\n",
        "      <td> 100</td>\n",
        "      <td> 100</td>\n",
        "      <td> grid</td>\n",
        "      <td> K</td>\n",
        "      <td> K</td>\n",
        "    </tr>\n",
        "    <tr>\n",
        "      <th>11</th>\n",
        "      <td> 300</td>\n",
        "      <td> 200</td>\n",
        "      <td> 100</td>\n",
        "      <td> 100</td>\n",
        "      <td> grid</td>\n",
        "      <td> L</td>\n",
        "      <td> L</td>\n",
        "    </tr>\n",
        "  </tbody>\n",
        "</table>\n",
        "<p>12 rows \u00d7 7 columns</p>\n",
        "</div>"
       ],
       "metadata": {},
       "output_type": "pyout",
       "prompt_number": 52,
       "text": [
        "      x    y  width  height  kind name local_id\n",
        "0     0    0    100     100  grid    A        A\n",
        "1   100    0    100     100  grid    B        B\n",
        "2   200    0    100     100  grid    C        C\n",
        "3   300    0    100     100  grid    D        D\n",
        "4     0  100    100     100  grid    E        E\n",
        "5   100  100    100     100  grid    F        F\n",
        "6   200  100    100     100  grid    G        G\n",
        "7   300  100    100     100  grid    H        H\n",
        "8     0  200    100     100  grid    I        I\n",
        "9   100  200    100     100  grid    J        J\n",
        "10  200  200    100     100  grid    K        K\n",
        "11  300  200    100     100  grid    L        L\n",
        "\n",
        "[12 rows x 7 columns]"
       ]
      }
     ],
     "prompt_number": 52
    },
    {
     "cell_type": "markdown",
     "metadata": {},
     "source": [
      "Show cells and labels."
     ]
    },
    {
     "cell_type": "code",
     "collapsed": false,
     "input": [
      "img = Image.new(\"RGB\", (400, 300), \"white\")\n",
      "aoi_img = plot.draw_rectangles(grid, img, alpha=0.8)\n",
      "\n",
      "# Add labels\n",
      "font = ImageFont.truetype(\"FreeMonoBold.ttf\", 50)\n",
      "draw = ImageDraw.ImageDraw(aoi_img)\n",
      "for x, y, name in grid[[\"x\", \"y\", \"name\"]].values:\n",
      "    draw.text((x + 35, y + 25), name, font=font)\n",
      "del draw\n",
      "\n",
      "aoi_img"
     ],
     "language": "python",
     "metadata": {},
     "outputs": [
      {
       "metadata": {},
       "output_type": "pyout",
       "png": "[encoded data removed]",
       "prompt_number": 53,
       "text": [
        "<PIL.Image.Image image mode=RGB size=400x300 at 0x4B03A70>"
       ]
      }
     ],
     "prompt_number": 53
    },
    {
     "cell_type": "markdown",
     "metadata": {},
     "source": [
      "Generate fixations along a particular scanpath. The longest saccade is to the right, the second longest is down, the last two are equal length (left and up)."
     ]
    },
    {
     "cell_type": "code",
     "collapsed": false,
     "input": [
      "fixes = aoi.fixations_from_scanpath(\"ADLKG\", grid)\n",
      "plot.fix_circles(fixes, aoi_img)"
     ],
     "language": "python",
     "metadata": {},
     "outputs": [
      {
       "metadata": {},
       "output_type": "pyout",
       "png": "[encoded data removed]",
       "prompt_number": 61,
       "text": [
        "<PIL.Image.Image image mode=RGB size=400x300 at 0x33E7C20>"
       ]
      }
     ],
     "prompt_number": 61
    },
    {
     "cell_type": "markdown",
     "metadata": {},
     "source": [
      "Plot saccade angles and distances. Should match expectations from above."
     ]
    },
    {
     "cell_type": "code",
     "collapsed": false,
     "input": [
      "saccs = util.fixations_to_saccades(fixes)\n",
      "plot.saccade_angle_plot(saccs, alpha=1)"
     ],
     "language": "python",
     "metadata": {},
     "outputs": [
      {
       "metadata": {},
       "output_type": "pyout",
       "prompt_number": 71,
       "text": [
        "<matplotlib.axes.PolarAxesSubplot at 0x5997f50>"
       ]
      },
      {
       "metadata": {},
       "output_type": "display_data",
       "png": "[encoded data removed]",
       "text": [
        "<matplotlib.figure.Figure at 0x599f350>"
       ]
      }
     ],
     "prompt_number": 71
    }
   ],
   "metadata": {}
  }
 ]
}